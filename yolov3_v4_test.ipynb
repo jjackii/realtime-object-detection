{
    "cells": [
        {
            "cell_type": "code",
            "execution_count": 5,
            "source": [
                "import os\r\n",
                "os.getcwd()"
            ],
            "outputs": [
                {
                    "output_type": "execute_result",
                    "data": {
                        "text/plain": [
                            "'c:\\\\Users\\\\User\\\\Desktop\\\\Final-project'"
                        ]
                    },
                    "metadata": {},
                    "execution_count": 5
                }
            ],
            "metadata": {}
        },
        {
            "cell_type": "code",
            "execution_count": 34,
            "source": [
                "%cd /"
            ],
            "outputs": [
                {
                    "output_type": "stream",
                    "name": "stdout",
                    "text": [
                        "C:\\\n"
                    ]
                }
            ],
            "metadata": {}
        },
        {
            "cell_type": "code",
            "execution_count": 6,
            "source": [
                "# %cd C:\\\\Users\\\\User\\\\Desktop\\\\Final Project\\\\yolov4_test\r\n",
                "%cd C:\\Users\\User\\Desktop\\Final Project\\yolov4_test\\sample3"
            ],
            "outputs": [
                {
                    "output_type": "stream",
                    "name": "stdout",
                    "text": [
                        "C:\\Users\\User\\Desktop\\Final Project\\yolov4_test\\sample3\n"
                    ]
                }
            ],
            "metadata": {}
        },
        {
            "cell_type": "code",
            "execution_count": 39,
            "source": [
                "%pwd"
            ],
            "outputs": [
                {
                    "output_type": "execute_result",
                    "data": {
                        "text/plain": [
                            "'C:\\\\Users\\\\User\\\\Desktop\\\\Final Project\\\\yolov4_test\\\\sample3'"
                        ]
                    },
                    "metadata": {},
                    "execution_count": 39
                }
            ],
            "metadata": {}
        },
        {
            "cell_type": "code",
            "execution_count": 15,
            "source": [
                "import re\r\n",
                "import xml.etree.ElementTree as ET\r\n",
                "\r\n",
                "# Funtion to get the data from XML Annotation\r\n",
                "def extract_info_from_xml(xml_file):\r\n",
                "    root = ET.parse(xml_file).getroot()\r\n",
                "    \r\n",
                "    # Initialise the info dict \r\n",
                "    info_dict = {}\r\n",
                "    info_dict['bboxes'] = []\r\n",
                "\r\n",
                "    # Parse the XML Tree\r\n",
                "    for elem in root:\r\n",
                "        # Get the file name \r\n",
                "        if elem.tag == \"filename\":\r\n",
                "            info_dict['filename'] = elem.text\r\n",
                "            \r\n",
                "        # Get the image size\r\n",
                "        elif elem.tag == \"size\":\r\n",
                "            image_size = []\r\n",
                "            for subelem in elem:\r\n",
                "                image_size.append(int(subelem.text))\r\n",
                "            \r\n",
                "            info_dict['image_size'] = tuple(image_size)\r\n",
                "        \r\n",
                "        # Get details of the bounding box \r\n",
                "        elif elem.tag == \"object\":\r\n",
                "            bbox = {}\r\n",
                "            for subelem in elem:\r\n",
                "                if subelem.tag == \"name\":\r\n",
                "                    bbox[\"class\"] = re.sub(\"\\!|\\'|\\?|\\)\",\"\",subelem.text)\r\n",
                "                    \r\n",
                "                elif subelem.tag == \"bndbox\":\r\n",
                "                    for subsubelem in subelem:\r\n",
                "                        bbox[subsubelem.tag] = int(subsubelem.text)            \r\n",
                "            info_dict['bboxes'].append(bbox)\r\n",
                "    \r\n",
                "    return info_dict\r\n"
            ],
            "outputs": [],
            "metadata": {}
        },
        {
            "cell_type": "code",
            "execution_count": 40,
            "source": [
                "dic = {}\r\n",
                "dic[\"a\"] =[]\r\n",
                "print(dic)"
            ],
            "outputs": [
                {
                    "output_type": "stream",
                    "name": "stdout",
                    "text": [
                        "{'a': []}\n"
                    ]
                }
            ],
            "metadata": {}
        },
        {
            "cell_type": "code",
            "execution_count": 18,
            "source": [
                "from pprint import pprint #pretty print\r\n",
                "\r\n",
                "pprint(extract_info_from_xml('./obj/10094_크라운)콘초66G/10094_0_m_1.xml'))"
            ],
            "outputs": [
                {
                    "output_type": "stream",
                    "name": "stdout",
                    "text": [
                        "{'bboxes': [{'class': '크라운콘초66G',\n",
                        "             'xmax': 1320,\n",
                        "             'xmin': 149,\n",
                        "             'ymax': 2360,\n",
                        "             'ymin': 820},\n",
                        "            {'class': '크라운콘초66G',\n",
                        "             'xmax': 2092,\n",
                        "             'xmin': 1110,\n",
                        "             'ymax': 2278,\n",
                        "             'ymin': 848},\n",
                        "            {'class': '크라운콘초66G',\n",
                        "             'xmax': 2791,\n",
                        "             'xmin': 1823,\n",
                        "             'ymax': 2200,\n",
                        "             'ymin': 869}],\n",
                        " 'filename': '10094_0_m_1.jpg',\n",
                        " 'image_size': (2988, 2988, 3)}\n"
                    ]
                }
            ],
            "metadata": {}
        },
        {
            "cell_type": "code",
            "execution_count": 19,
            "source": [
                "# try few things\r\n",
                "import os\r\n",
                "data_path_li = []\r\n",
                "for (path, dir, files) in os.walk('./obj'):\r\n",
                "  data_path_li.append(path)\r\n",
                "\r\n",
                "pprint(data_path_li)"
            ],
            "outputs": [
                {
                    "output_type": "stream",
                    "name": "stdout",
                    "text": [
                        "['./obj',\n",
                        " './obj\\\\10091_꼬깔콘고소한맛72G',\n",
                        " './obj\\\\10092_농심오징어집83G',\n",
                        " './obj\\\\10093_농심매운새우깡90G',\n",
                        " './obj\\\\10094_크라운)콘초66G',\n",
                        " './obj\\\\10095_농심바나나킥75G',\n",
                        " './obj\\\\10210_오리온)포카칩오리지널66G',\n",
                        " './obj\\\\20165_삼양)사또밥갈릭버터맛52G',\n",
                        " './obj\\\\20166_해태)구운대파70G',\n",
                        " './obj\\\\20167_해태)오사쯔60G',\n",
                        " './obj\\\\20171_농심알새우칩68G',\n",
                        " './obj\\\\20211_크라운)카라멜메이플콘74G',\n",
                        " './obj\\\\25197_롯데제과)도리토스나쵸치즈맛40G',\n",
                        " './obj\\\\30060_농심벌집핏자90G',\n",
                        " './obj\\\\30061_농심포스틱84G',\n",
                        " './obj\\\\30063_빙그레꽃게랑오리지널맛70G',\n",
                        " './obj\\\\30064_크라운)꽃게랑불짬뽕맛70G',\n",
                        " './obj\\\\30065_크라운)꽃게랑와사비70G',\n",
                        " './obj\\\\30067_오리온)포카칩양파66G',\n",
                        " './obj\\\\30120_롯데)꼬깔콘매콤달콤72G',\n",
                        " './obj\\\\30133_포카칩오리지널110G',\n",
                        " './obj\\\\30135_크라운)콘칩골드117G',\n",
                        " './obj\\\\30166_롯데)치토스후라이드_양념치킨맛80G',\n",
                        " './obj\\\\40088_오리온썬핫스파이시맛80G',\n",
                        " './obj\\\\40089_오리온꼬북칩80G',\n",
                        " './obj\\\\40090_롯데치토스스모키바베큐맛88G',\n",
                        " './obj\\\\40091_꼬깔콘군옥수수맛72G',\n",
                        " './obj\\\\40095_농심새우깡90G',\n",
                        " './obj\\\\40105_롯데)초코빼빼로54G',\n",
                        " './obj\\\\40106_롯데)아몬드빼빼로37G',\n",
                        " './obj\\\\40110_롯데)누드초코빼빼로50G',\n",
                        " './obj\\\\40146_롯데쌀로별오리지널78G',\n",
                        " './obj\\\\40147_오리온오감자양념바베큐맛50G',\n",
                        " './obj\\\\40150_삼양짱구115g',\n",
                        " './obj\\\\40153_오)포카칩어니언맛110g',\n",
                        " './obj\\\\40154_오리온태양의맛썬64g',\n",
                        " './obj\\\\45227_롯데제과)꼬깔콘고소한맛42G',\n",
                        " './obj\\\\50062_농심자갈치90G',\n",
                        " './obj\\\\50063_도리토스갈비천왕치킨맛172G',\n",
                        " './obj\\\\50117_크라운)콘칩(군옥수수)70G',\n",
                        " './obj\\\\70083_오리온)눈을감자113G',\n",
                        " './obj\\\\70086_크라운)못말리는신짱120G',\n",
                        " './obj\\\\80108_오리온)눈을감자M56G',\n",
                        " './obj\\\\90071_롯데)치토스매콤달콤한맛88G',\n",
                        " './obj\\\\90072_오리온오징어땅콩98G',\n",
                        " './obj\\\\90073_농심)고구마깡83G',\n",
                        " './obj\\\\90075_오리온)오감자감자그라탕맛50G',\n",
                        " './obj\\\\90076_크라운)죠리퐁74G',\n",
                        " './obj\\\\90123_해태허니버터칩60G',\n",
                        " './obj\\\\90124_삼양)사또밥67G',\n",
                        " './obj\\\\90125_농심양파링84G',\n",
                        " './obj\\\\90186_오리온땅콩강정80G',\n",
                        " './obj\\\\90187_오리온)썬갈릭바게트맛64G']\n"
                    ]
                }
            ],
            "metadata": {}
        },
        {
            "cell_type": "code",
            "execution_count": 20,
            "source": [
                "os.getcwd()"
            ],
            "outputs": [
                {
                    "output_type": "execute_result",
                    "data": {
                        "text/plain": [
                            "'C:\\\\Users\\\\User\\\\Desktop\\\\Final Project\\\\yolov4_test\\\\sample3'"
                        ]
                    },
                    "metadata": {},
                    "execution_count": 20
                }
            ],
            "metadata": {}
        },
        {
            "cell_type": "code",
            "execution_count": null,
            "source": [
                "# current structure: (cwd)/obj/90186_오리온땅콩강정80G ~ etc."
            ],
            "outputs": [],
            "metadata": {}
        },
        {
            "cell_type": "code",
            "execution_count": 21,
            "source": [
                "import glob\r\n",
                "\r\n",
                "directory = 'obj'\r\n",
                "\r\n",
                "# directory -> files loop\r\n",
                "tmp = []\r\n",
                "for dir in glob.iglob(f'{directory}/*'):\r\n",
                "    for file in glob.iglob(f'{dir}/*xml'):\r\n",
                "        if file[-8:] != 'meta.xml':\r\n",
                "            tmp.append(file)\r\n",
                "\r\n",
                "tmp.sort()"
            ],
            "outputs": [],
            "metadata": {}
        },
        {
            "cell_type": "code",
            "execution_count": 12,
            "source": [
                "tmp[:4]"
            ],
            "outputs": [
                {
                    "output_type": "execute_result",
                    "data": {
                        "text/plain": [
                            "['obj\\\\10091_꼬깔콘고소한맛72G\\\\10091_0_m_1.xml',\n",
                            " 'obj\\\\10091_꼬깔콘고소한맛72G\\\\10091_0_m_10.xml',\n",
                            " 'obj\\\\10091_꼬깔콘고소한맛72G\\\\10091_0_m_11.xml',\n",
                            " 'obj\\\\10091_꼬깔콘고소한맛72G\\\\10091_0_m_12.xml']"
                        ]
                    },
                    "metadata": {},
                    "execution_count": 12
                }
            ],
            "metadata": {}
        },
        {
            "cell_type": "code",
            "execution_count": 13,
            "source": [
                "# Dictionary that maps class names to IDs\r\n",
                "class_name_to_id_mapping = {'꼬깔콘고소한맛72G': 0, '농심오징어집83G': 1, '농심매운새우깡90G': 2, \r\n",
                "                            '크라운콘초66G': 3, '농심바나나킥75G': 4, '오리온포카칩오리지널66G': 5, \r\n",
                "                            '삼양사또밥갈릭버터맛52G': 6, '해태구운대파70G': 7, '해태오사쯔60G': 8, '농심알새우칩68G': 9, \r\n",
                "                            '크라운카라멜메이플콘74G': 10, '롯데제과도리토스나쵸치즈맛40G': 11, '농심벌집핏자90G': 12, \r\n",
                "                            '농심포스틱84G': 13, '빙그레꽃게랑오리지널맛70G': 14, '크라운꽃게랑불짬뽕맛70G': 15, \r\n",
                "                            '크라운꽃게랑와사비70G': 16, '오리온포카칩양파66G': 17, '롯데꼬깔콘매콤달콤72G': 18, \r\n",
                "                            '포카칩오리지널110G': 19, '크라운콘칩골드117G': 20, '롯데치토스후라이드양념치킨맛80G': 21, \r\n",
                "                            '오리온썬핫스파이시맛80G': 22, '오리온꼬북칩80G': 23, '롯데치토스스모키바베큐맛88G': 24, \r\n",
                "                            '꼬깔콘군옥수수맛72G': 25, '농심새우깡90G': 26, '롯데초코빼빼로54G': 27, '롯데아몬드빼빼로37G': 28, \r\n",
                "                            '롯데누드초코빼빼로50G': 29, '롯데쌀로별오리지널78G': 30, '오리온오감자양념바베큐맛50G': 31, \r\n",
                "                            '삼양짱구115g': 32, '오포카칩어니언맛110g': 33, '오리온태양의맛썬64g': 34, '롯데제과꼬깔콘고소한맛42G': 35, \r\n",
                "                            '농심자갈치90G': 36, '도리토스갈비천왕치킨맛172G': 37, '크라운콘칩군옥수수70G': 38, '오리온눈을감자113G': 39, \r\n",
                "                            '크라운못말리는신짱120G': 40, '오리온눈을감자M56G': 41, '롯데치토스매콤달콤한맛88G': 42, \r\n",
                "                            '오리온오징어땅콩98G': 43, '농심고구마깡83G': 44, '오리온오감자감자그라탕맛50G': 45, '크라운죠리퐁74G': 46, \r\n",
                "                            '해태허니버터칩60G': 47, '삼양사또밥67G': 48, '농심양파링84G': 49, '오리온땅콩강정80G': 50, \r\n",
                "                            '오리온썬갈릭바게트맛64G': 51}"
            ],
            "outputs": [],
            "metadata": {}
        },
        {
            "cell_type": "code",
            "execution_count": null,
            "source": [
                "# Convert the info dict to the required yolo format and write it to disk\r\n",
                "def convert_to_yolo_label(info_dict, directory):\r\n",
                "    print_buffer = []\r\n",
                "    \r\n",
                "    # For each bounding box\r\n",
                "    for b in info_dict[\"bboxes\"]:\r\n",
                "        try:\r\n",
                "            class_id = class_name_to_id_mapping[b[\"class\"]] #//test\r\n",
                "        except KeyError:\r\n",
                "            print(\"Invalid Class. Must be one from \", class_name_to_id_mapping.keys())\r\n",
                "        \r\n",
                "        # Transform the bbox co-ordinates as per the format required by YOLO v5\r\n",
                "        b_center_x = (b[\"xmin\"] + b[\"xmax\"]) / 2 \r\n",
                "        b_center_y = (b[\"ymin\"] + b[\"ymax\"]) / 2\r\n",
                "        b_width    = (b[\"xmax\"] - b[\"xmin\"])\r\n",
                "        b_height   = (b[\"ymax\"] - b[\"ymin\"])\r\n"
            ],
            "outputs": [],
            "metadata": {}
        }
    ],
    "metadata": {
        "orig_nbformat": 4,
        "language_info": {
            "name": "python",
            "version": "3.8.5",
            "mimetype": "text/x-python",
            "codemirror_mode": {
                "name": "ipython",
                "version": 3
            },
            "pygments_lexer": "ipython3",
            "nbconvert_exporter": "python",
            "file_extension": ".py"
        },
        "kernelspec": {
            "name": "python3",
            "display_name": "Python 3.8.5 64-bit ('base': conda)"
        },
        "interpreter": {
            "hash": "b3ba2566441a7c06988d0923437866b63cedc61552a5af99d1f4fb67d367b25f"
        }
    },
    "nbformat": 4,
    "nbformat_minor": 2
}